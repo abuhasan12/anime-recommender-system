{
 "cells": [
  {
   "attachments": {},
   "cell_type": "markdown",
   "metadata": {},
   "source": [
    "# Recommender System for Animes using a Content-Based Approach with Pyspark"
   ]
  },
  {
   "attachments": {},
   "cell_type": "markdown",
   "metadata": {},
   "source": [
    "## What this notebook includes\n",
    "* Introduction to problem\n",
    "* Summary of the dataset being used.\n",
    "* Exploration of the dataset.\n",
    "* Cleaning and processing of the dataset.\n",
    "* Encoding categorical features.\n",
    "* Utilising NLP to vectorise text features.\n",
    "* Creating similarity matrices\n",
    "* Using similarity matrix to recommend similar items\n",
    "* Suggestions for improvement."
   ]
  },
  {
   "attachments": {},
   "cell_type": "markdown",
   "metadata": {},
   "source": [
    "### Introduction\n",
    "In this data science notebook, we will be creating a content-based anime recommender system. The dataset used contains details about anime titles, their ratings, genres, and synopses.\n",
    "\n",
    "Instead of using a collaborative-based approach, we will be using a content-based method to find similar animes. We will be utilizing pyspark for data cleaning and pre-processing, and using techniques such as TFIDF to create vectors for the synopses and one hot encoding for the genres.\n",
    "\n",
    "We will then create genre and synopsis similarity matrices for each anime, and combine them to create a final similarity matrix. This final matrix will be used in a function to retrieve similar animes above a certain threshold, which can be sorted by similarity score or by the rating of the anime.\n",
    "\n",
    "As potential improvements, we will look into incorporating additional features such as year and voice actors, and also experiment with collaborative filtering techniques."
   ]
  },
  {
   "attachments": {},
   "cell_type": "markdown",
   "metadata": {},
   "source": [
    "### The dataset\n",
    "\n",
    "The anime_with_synopsis dataset from Kaggle is a collection of anime titles, their synopses, ratings, and genres. The dataset contains information for over 12,000 anime titles, including their English and Japanese titles, as well as their synopsis. It also includes the genres that the anime belongs to, and the ratings (average score) from MyAnimeList. This dataset can be used to analyze the different genres and themes of anime, as well as to build a content-based anime recommendation system using the synopsis and genre information."
   ]
  },
  {
   "attachments": {},
   "cell_type": "markdown",
   "metadata": {},
   "source": [
    "## Import data and libraries"
   ]
  },
  {
   "cell_type": "code",
   "execution_count": 1,
   "metadata": {},
   "outputs": [
    {
     "name": "stderr",
     "output_type": "stream",
     "text": [
      "WARNING:root:'PYARROW_IGNORE_TIMEZONE' environment variable was not set. It is required to set this environment variable to '1' in both driver and executor sides if you use pyarrow>=2.0.0. pandas-on-Spark will set it for you but it does not work if there is a Spark context already launched.\n"
     ]
    }
   ],
   "source": [
    "# Import libraries\n",
    "import pandas as pd\n",
    "import numpy as np\n",
    "from scipy import sparse\n",
    "from scipy.stats import mstats\n",
    "\n",
    "# Spark\n",
    "import pyspark.pandas as ps\n",
    "from pyspark.sql import SparkSession\n",
    "import pyspark.sql.functions as F\n",
    "from pyspark.ml.feature import StopWordsRemover, HashingTF, IDF\n",
    "from pyspark.ml.linalg import DenseVector, Vectors\n",
    "from pyspark.sql.types import DoubleType\n",
    "\n",
    "# Text pre-processing\n",
    "import nltk\n",
    "from nltk.corpus import stopwords\n",
    "from sklearn.feature_extraction.text import TfidfVectorizer"
   ]
  },
  {
   "cell_type": "code",
   "execution_count": 2,
   "metadata": {},
   "outputs": [],
   "source": [
    "# stopwords\n",
    "# nltk.download('stopwords')"
   ]
  },
  {
   "cell_type": "code",
   "execution_count": 3,
   "metadata": {},
   "outputs": [],
   "source": [
    "# Start Spark session\n",
    "spark = SparkSession.Builder().appName(\"AnimeRecommender\").getOrCreate()"
   ]
  },
  {
   "cell_type": "code",
   "execution_count": 4,
   "metadata": {},
   "outputs": [],
   "source": [
    "# Data into spark dataframes\n",
    "anime_sdf = spark.read.csv('../data/raw/anime_with_synopsis.csv', header=True)"
   ]
  },
  {
   "cell_type": "code",
   "execution_count": 5,
   "metadata": {},
   "outputs": [],
   "source": [
    "# Creating a copy of original dataframe to work with\n",
    "anime = anime_sdf.select(\"*\")"
   ]
  },
  {
   "attachments": {},
   "cell_type": "markdown",
   "metadata": {},
   "source": [
    "## Explore Data"
   ]
  },
  {
   "attachments": {},
   "cell_type": "markdown",
   "metadata": {},
   "source": [
    "### Shape"
   ]
  },
  {
   "cell_type": "code",
   "execution_count": 6,
   "metadata": {},
   "outputs": [
    {
     "name": "stdout",
     "output_type": "stream",
     "text": [
      "16214\n",
      "5\n"
     ]
    }
   ],
   "source": [
    "# Shape of data\n",
    "print(anime.count())\n",
    "print(len(anime.columns))"
   ]
  },
  {
   "attachments": {},
   "cell_type": "markdown",
   "metadata": {},
   "source": [
    "The data has 16214 rows and 5 columns."
   ]
  },
  {
   "attachments": {},
   "cell_type": "markdown",
   "metadata": {},
   "source": [
    "### Preview"
   ]
  },
  {
   "cell_type": "code",
   "execution_count": 7,
   "metadata": {},
   "outputs": [
    {
     "name": "stdout",
     "output_type": "stream",
     "text": [
      "+------+--------------------+-----+--------------------+--------------------+\n",
      "|MAL_ID|                Name|Score|              Genres|           sypnopsis|\n",
      "+------+--------------------+-----+--------------------+--------------------+\n",
      "|     1|        Cowboy Bebop| 8.78|Action, Adventure...|\"In the year 2071...|\n",
      "|     5|Cowboy Bebop: Ten...| 8.39|Action, Drama, My...|other day, anothe...|\n",
      "|     6|              Trigun| 8.24|Action, Sci-Fi, A...|\"Vash the Stamped...|\n",
      "|     7|  Witch Hunter Robin| 7.27|Action, Mystery, ...|ches are individu...|\n",
      "|     8|      Bouken Ou Beet| 6.98|Adventure, Fantas...|It is the dark ce...|\n",
      "+------+--------------------+-----+--------------------+--------------------+\n",
      "only showing top 5 rows\n",
      "\n"
     ]
    }
   ],
   "source": [
    "# Preview data\n",
    "anime.show(5)"
   ]
  },
  {
   "cell_type": "code",
   "execution_count": 8,
   "metadata": {},
   "outputs": [
    {
     "data": {
      "text/plain": [
       "['MAL_ID', 'Name', 'Score', 'Genres', 'sypnopsis']"
      ]
     },
     "execution_count": 8,
     "metadata": {},
     "output_type": "execute_result"
    }
   ],
   "source": [
    "# Preview columns\n",
    "anime.columns"
   ]
  },
  {
   "attachments": {},
   "cell_type": "markdown",
   "metadata": {},
   "source": [
    "The synopsis column is incorrectly spelled, let's fix it."
   ]
  },
  {
   "cell_type": "code",
   "execution_count": 9,
   "metadata": {},
   "outputs": [
    {
     "name": "stdout",
     "output_type": "stream",
     "text": [
      "+------+--------------------+-----+--------------------+--------------------+\n",
      "|MAL_ID|                Name|Score|              Genres|            Synopsis|\n",
      "+------+--------------------+-----+--------------------+--------------------+\n",
      "|     1|        Cowboy Bebop| 8.78|Action, Adventure...|\"In the year 2071...|\n",
      "|     5|Cowboy Bebop: Ten...| 8.39|Action, Drama, My...|other day, anothe...|\n",
      "|     6|              Trigun| 8.24|Action, Sci-Fi, A...|\"Vash the Stamped...|\n",
      "|     7|  Witch Hunter Robin| 7.27|Action, Mystery, ...|ches are individu...|\n",
      "|     8|      Bouken Ou Beet| 6.98|Adventure, Fantas...|It is the dark ce...|\n",
      "+------+--------------------+-----+--------------------+--------------------+\n",
      "only showing top 5 rows\n",
      "\n"
     ]
    }
   ],
   "source": [
    "# Renaming column\n",
    "anime = anime.withColumn('Synopsis', F.col('sypnopsis')).drop('sypnopsis')\n",
    "\n",
    "anime.show(5)"
   ]
  },
  {
   "attachments": {},
   "cell_type": "markdown",
   "metadata": {},
   "source": [
    "### Nulls check"
   ]
  },
  {
   "cell_type": "code",
   "execution_count": 10,
   "metadata": {},
   "outputs": [
    {
     "name": "stdout",
     "output_type": "stream",
     "text": [
      "+------+----+-----+------+--------+\n",
      "|MAL_ID|Name|Score|Genres|Synopsis|\n",
      "+------+----+-----+------+--------+\n",
      "|     0|   0|    0|     0|       8|\n",
      "+------+----+-----+------+--------+\n",
      "\n"
     ]
    }
   ],
   "source": [
    "# Checking for nulls\n",
    "anime.select([F.count(F.when(F.isnan(c) | F.col(c).isNull(), c)).alias(c) for c in anime.columns]).show()"
   ]
  },
  {
   "attachments": {},
   "cell_type": "markdown",
   "metadata": {},
   "source": [
    "Only 8 rows with nulls in Synopsis column, easy to drop."
   ]
  },
  {
   "cell_type": "code",
   "execution_count": 11,
   "metadata": {},
   "outputs": [
    {
     "name": "stdout",
     "output_type": "stream",
     "text": [
      "+------+----+-----+------+--------+\n",
      "|MAL_ID|Name|Score|Genres|Synopsis|\n",
      "+------+----+-----+------+--------+\n",
      "|     0|   0|    0|     0|       0|\n",
      "+------+----+-----+------+--------+\n",
      "\n"
     ]
    }
   ],
   "source": [
    "# Dropping null rows\n",
    "anime = anime.na.drop()\n",
    "\n",
    "anime.select([F.count(F.when(F.isnan(c) | F.col(c).isNull(), c)).alias(c) for c in anime.columns]).show()"
   ]
  },
  {
   "attachments": {},
   "cell_type": "markdown",
   "metadata": {},
   "source": [
    "### Preview tail end"
   ]
  },
  {
   "cell_type": "code",
   "execution_count": 12,
   "metadata": {},
   "outputs": [
    {
     "data": {
      "text/plain": [
       "[Row(MAL_ID='48481', Name='Daomu Biji Zhi Qinling Shen Shu', Score='Unknown', Genres='Adventure, Mystery, Supernatural', Synopsis='No synopsis information has been added to this title. Help improve our database by adding a synopsis here .'),\n",
       " Row(MAL_ID='48483', Name='Mieruko-chan', Score='Unknown', Genres='Comedy, Horror, Supernatural', Synopsis='ko is a typical high school student whose life turns upside down when she suddenly starts to see gruesome and hideous monsters. Despite being completely terrified, Miko carries on with her daily life, pretending not to notice the horrors that surround her. She must endure the fear in order to keep herself and her friend Hana out of danger, even if that means coming face to face with the absolute worst. Blending both comedy and horror, Mieruko-chan tells the story of a girl who tries to deal with the paranormal by acting indifferent toward it.'),\n",
       " Row(MAL_ID='48488', Name='Higurashi no Naku Koro ni Sotsu', Score='Unknown', Genres='Mystery, Dementia, Horror, Psychological, Supernatural, Thriller', Synopsis='Sequel to Higurashi no Naku Koro ni Gou .'),\n",
       " Row(MAL_ID='48491', Name='Yama no Susume: Next Summit', Score='Unknown', Genres='Adventure, Slice of Life, Comedy', Synopsis='New Yama no Susume anime.'),\n",
       " Row(MAL_ID='48492', Name='Scarlet Nexus', Score='Unknown', Genres='Action, Fantasy', Synopsis=\"Solar calendar year 2020: grotesque organisms called Others have begun eating people. To take down this new enemy, the Other Suppression Force is formed. Saved by this elite team as a child, psychokinetic Yuito withstands the training to enlist. On the other hand, prodigy Kasane was scouted for her abilities. But Kasane's dreams tell her strange things, dragging the two into an unavoidable fate. (Source: Official Site)\")]"
      ]
     },
     "execution_count": 12,
     "metadata": {},
     "output_type": "execute_result"
    }
   ],
   "source": [
    "anime.tail(5)\n",
    "# Can see some Scores as 'Unknown' which isn't great as we don't want to recommend titles that haven't even been scored"
   ]
  },
  {
   "attachments": {},
   "cell_type": "markdown",
   "metadata": {},
   "source": [
    "Everything looks fine except the 'Scores' column, some of them are set as 'Unknown'. In an ideal scenario, we would like to not recommend anime that are not scored."
   ]
  },
  {
   "cell_type": "code",
   "execution_count": 15,
   "metadata": {},
   "outputs": [
    {
     "name": "stdout",
     "output_type": "stream",
     "text": [
      "5115\n",
      "+------+--------------------+-------+--------------------+--------------------+\n",
      "|MAL_ID|                Name|  Score|              Genres|            Synopsis|\n",
      "+------+--------------------+-------+--------------------+--------------------+\n",
      "|  1547|    Obake no Q-tarou|Unknown|Comedy, School, S...|Q-taro, a monster...|\n",
      "|  1656|     PostPet Momobin|Unknown|        Comedy, Kids|omo and Komomo ca...|\n",
      "|  1739|Shibawanko no Wa ...|Unknown|                Kids|\"Based on a japan...|\n",
      "|  1863|Silk Road Shounen...|Unknown|Adventure, Fantas...|hen a boy Yuto vi...|\n",
      "|  2073|Hengen Taima Yako...|Unknown|      Horror, Shoujo|\"Shoko and Maiko ...|\n",
      "+------+--------------------+-------+--------------------+--------------------+\n",
      "only showing top 5 rows\n",
      "\n"
     ]
    }
   ],
   "source": [
    "# Find more details about Unknown scored columns\n",
    "anime_unkown = anime.where(anime.Score == 'Unknown')\n",
    "print(anime_unkown.count())\n",
    "anime_unkown.show(5)"
   ]
  },
  {
   "attachments": {},
   "cell_type": "markdown",
   "metadata": {},
   "source": [
    "Nearly a third of the data has 'unknown' scores. If this was a classification/regression problem then it may be detremental to drop these rows. But since here it fits with our objective (not recommending unscored animes), we can drop them."
   ]
  },
  {
   "cell_type": "code",
   "execution_count": 16,
   "metadata": {},
   "outputs": [
    {
     "name": "stdout",
     "output_type": "stream",
     "text": [
      "11091\n"
     ]
    },
    {
     "data": {
      "text/plain": [
       "[Row(MAL_ID='47398', Name='Kimetsu Gakuen: Valentine-hen', Score='6.59', Genres='Comedy', Synopsis=\"Valentine's Day special for Kimetsu no Yaiba . The first three episodes will be released on Aniplex's official YouTube channel, while the fourth and final episode will be streamed during the Kimetsu Matsuri Online: Anime 2nd Anniversary Festival .\"),\n",
       " Row(MAL_ID='47402', Name='Heikousen', Score='7.52', Genres='Music, Romance', Synopsis=\"usic video for Eve and suis' song Heikousen , also used as commercial for the Lotte Ghana Valentine Present campaign.\"),\n",
       " Row(MAL_ID='47614', Name='Nu Wushen de Canzhuo Spring Festival Special', Score='6.83', Genres='Slice of Life, Comedy', Synopsis='No synopsis information has been added to this title. Help improve our database by adding a synopsis here .'),\n",
       " Row(MAL_ID='47616', Name='Yakusoku no Neverland 2nd Season: Michishirube', Score='4.81', Genres='Mystery, Psychological, Supernatural, Thriller, Shounen', Synopsis='cap of the first season of Yakusoku no Neverland and the first five episodes of season two.'),\n",
       " Row(MAL_ID='48456', Name='SK∞: Crazy Rock Jam', Score='6.52', Genres='Comedy, Sports', Synopsis='cap of the first 9 episodes of SK∞ .')]"
      ]
     },
     "execution_count": 16,
     "metadata": {},
     "output_type": "execute_result"
    }
   ],
   "source": [
    "# Dropping unknown scored animes\n",
    "anime = anime.where(anime.Score != 'Unknown')\n",
    "\n",
    "print(anime.count())\n",
    "anime.tail(5)"
   ]
  },
  {
   "attachments": {},
   "cell_type": "markdown",
   "metadata": {},
   "source": [
    "### Clean up"
   ]
  },
  {
   "cell_type": "code",
   "execution_count": 17,
   "metadata": {},
   "outputs": [
    {
     "name": "stdout",
     "output_type": "stream",
     "text": [
      "+--------------------+-----+--------------------+--------------------+\n",
      "|                Name|Score|              Genres|            Synopsis|\n",
      "+--------------------+-----+--------------------+--------------------+\n",
      "|        Cowboy Bebop| 8.78|Action, Adventure...|\"In the year 2071...|\n",
      "|Cowboy Bebop: Ten...| 8.39|Action, Drama, My...|other day, anothe...|\n",
      "|              Trigun| 8.24|Action, Sci-Fi, A...|\"Vash the Stamped...|\n",
      "|  Witch Hunter Robin| 7.27|Action, Mystery, ...|ches are individu...|\n",
      "|      Bouken Ou Beet| 6.98|Adventure, Fantas...|It is the dark ce...|\n",
      "+--------------------+-----+--------------------+--------------------+\n",
      "only showing top 5 rows\n",
      "\n"
     ]
    }
   ],
   "source": [
    "# Dropping columns not needed\n",
    "anime = anime.drop('MAL_ID')\n",
    "\n",
    "anime.show(5)"
   ]
  },
  {
   "cell_type": "code",
   "execution_count": 18,
   "metadata": {},
   "outputs": [
    {
     "name": "stdout",
     "output_type": "stream",
     "text": [
      "+--------------------+-----+--------------------+--------------------+\n",
      "|                Name|Score|              Genres|            Synopsis|\n",
      "+--------------------+-----+--------------------+--------------------+\n",
      "|        Cowboy Bebop| 8.78|Action, Adventure...|\"In the year 2071...|\n",
      "|Cowboy Bebop: Ten...| 8.39|Action, Drama, My...|other day, anothe...|\n",
      "|              Trigun| 8.24|Action, Sci-Fi, A...|\"Vash the Stamped...|\n",
      "|  Witch Hunter Robin| 7.27|Action, Mystery, ...|ches are individu...|\n",
      "|      Bouken Ou Beet| 6.98|Adventure, Fantas...|It is the dark ce...|\n",
      "+--------------------+-----+--------------------+--------------------+\n",
      "only showing top 5 rows\n",
      "\n"
     ]
    }
   ],
   "source": [
    "# Saving copy to use later for recommendations\n",
    "anime_sdf = anime.select(\"*\")\n",
    "\n",
    "anime_sdf.show(5)"
   ]
  },
  {
   "attachments": {},
   "cell_type": "markdown",
   "metadata": {},
   "source": [
    "## Data Pre-processing and Cleaning"
   ]
  },
  {
   "attachments": {},
   "cell_type": "markdown",
   "metadata": {},
   "source": [
    "### Categorical Features"
   ]
  },
  {
   "attachments": {},
   "cell_type": "markdown",
   "metadata": {},
   "source": [
    "We need to perform one hot encoding for the genres."
   ]
  },
  {
   "cell_type": "code",
   "execution_count": 19,
   "metadata": {},
   "outputs": [
    {
     "name": "stdout",
     "output_type": "stream",
     "text": [
      "+--------------------+--------------------+\n",
      "|              Genres|        Genres_split|\n",
      "+--------------------+--------------------+\n",
      "|Action, Adventure...|[Action, Adventur...|\n",
      "|Action, Drama, My...|[Action, Drama, M...|\n",
      "|Action, Sci-Fi, A...|[Action, Sci-Fi, ...|\n",
      "|Action, Mystery, ...|[Action, Mystery,...|\n",
      "|Adventure, Fantas...|[Adventure, Fanta...|\n",
      "+--------------------+--------------------+\n",
      "only showing top 5 rows\n",
      "\n"
     ]
    }
   ],
   "source": [
    "# Splitting column for one hot encoding\n",
    "anime = anime.withColumn('Genres_split', F.split(anime['Genres'], ', '))\n",
    "\n",
    "anime.select('Genres', 'Genres_split').show(5)"
   ]
  },
  {
   "cell_type": "code",
   "execution_count": 20,
   "metadata": {},
   "outputs": [
    {
     "name": "stdout",
     "output_type": "stream",
     "text": [
      "root\n",
      " |-- Name: string (nullable = true)\n",
      " |-- Score: string (nullable = true)\n",
      " |-- Genres: string (nullable = true)\n",
      " |-- Synopsis: string (nullable = true)\n",
      " |-- Genres_split: array (nullable = true)\n",
      " |    |-- element: string (containsNull = false)\n",
      " |-- 6.45: integer (nullable = false)\n",
      " |-- 7.14: integer (nullable = false)\n",
      " |-- Action: integer (nullable = false)\n",
      " |-- Adventure: integer (nullable = false)\n",
      " |-- Cars: integer (nullable = false)\n",
      " |-- Comedy: integer (nullable = false)\n",
      " |-- Dementia: integer (nullable = false)\n",
      " |-- Demons: integer (nullable = false)\n",
      " |-- Drama: integer (nullable = false)\n",
      " |-- Ecchi: integer (nullable = false)\n",
      " |-- Fantasy: integer (nullable = false)\n",
      " |-- Game: integer (nullable = false)\n",
      " |-- Harem: integer (nullable = false)\n",
      " |-- Historical: integer (nullable = false)\n",
      " |-- Horror: integer (nullable = false)\n",
      " |-- Josei: integer (nullable = false)\n",
      " |-- Kids: integer (nullable = false)\n",
      " |-- Magic: integer (nullable = false)\n",
      " |-- Martial Arts: integer (nullable = false)\n",
      " |-- Mecha: integer (nullable = false)\n",
      " |-- Military: integer (nullable = false)\n",
      " |-- Music: integer (nullable = false)\n",
      " |-- Mystery: integer (nullable = false)\n",
      " |-- Parody: integer (nullable = false)\n",
      " |-- Police: integer (nullable = false)\n",
      " |-- Psychological: integer (nullable = false)\n",
      " |-- Romance: integer (nullable = false)\n",
      " |-- Samurai: integer (nullable = false)\n",
      " |-- School: integer (nullable = false)\n",
      " |-- Sci-Fi: integer (nullable = false)\n",
      " |-- Seinen: integer (nullable = false)\n",
      " |-- Shoujo: integer (nullable = false)\n",
      " |-- Shoujo Ai: integer (nullable = false)\n",
      " |-- Shounen: integer (nullable = false)\n",
      " |-- Shounen Ai: integer (nullable = false)\n",
      " |-- Slice of Life: integer (nullable = false)\n",
      " |-- Space: integer (nullable = false)\n",
      " |-- Sports: integer (nullable = false)\n",
      " |-- Super Power: integer (nullable = false)\n",
      " |-- Supernatural: integer (nullable = false)\n",
      " |-- Thriller: integer (nullable = false)\n",
      " |-- Unknown: integer (nullable = false)\n",
      " |-- Vampire: integer (nullable = false)\n",
      " |-- Yaoi: integer (nullable = false)\n",
      "\n",
      "None\n",
      "+--------------------+-----+--------------------+--------------------+--------------------+----+----+------+---------+----+------+--------+------+-----+-----+-------+----+-----+----------+------+-----+----+-----+------------+-----+--------+-----+-------+------+------+-------------+-------+-------+------+------+------+------+---------+-------+----------+-------------+-----+------+-----------+------------+--------+-------+-------+----+\n",
      "|                Name|Score|              Genres|            Synopsis|        Genres_split|6.45|7.14|Action|Adventure|Cars|Comedy|Dementia|Demons|Drama|Ecchi|Fantasy|Game|Harem|Historical|Horror|Josei|Kids|Magic|Martial Arts|Mecha|Military|Music|Mystery|Parody|Police|Psychological|Romance|Samurai|School|Sci-Fi|Seinen|Shoujo|Shoujo Ai|Shounen|Shounen Ai|Slice of Life|Space|Sports|Super Power|Supernatural|Thriller|Unknown|Vampire|Yaoi|\n",
      "+--------------------+-----+--------------------+--------------------+--------------------+----+----+------+---------+----+------+--------+------+-----+-----+-------+----+-----+----------+------+-----+----+-----+------------+-----+--------+-----+-------+------+------+-------------+-------+-------+------+------+------+------+---------+-------+----------+-------------+-----+------+-----------+------------+--------+-------+-------+----+\n",
      "|        Cowboy Bebop| 8.78|Action, Adventure...|\"In the year 2071...|[Action, Adventur...|   0|   0|     1|        1|   0|     1|       0|     0|    1|    0|      0|   0|    0|         0|     0|    0|   0|    0|           0|    0|       0|    0|      0|     0|     0|            0|      0|      0|     0|     1|     0|     0|        0|      0|         0|            0|    1|     0|          0|           0|       0|      0|      0|   0|\n",
      "|Cowboy Bebop: Ten...| 8.39|Action, Drama, My...|other day, anothe...|[Action, Drama, M...|   0|   0|     1|        0|   0|     0|       0|     0|    1|    0|      0|   0|    0|         0|     0|    0|   0|    0|           0|    0|       0|    0|      1|     0|     0|            0|      0|      0|     0|     1|     0|     0|        0|      0|         0|            0|    1|     0|          0|           0|       0|      0|      0|   0|\n",
      "|              Trigun| 8.24|Action, Sci-Fi, A...|\"Vash the Stamped...|[Action, Sci-Fi, ...|   0|   0|     1|        1|   0|     1|       0|     0|    1|    0|      0|   0|    0|         0|     0|    0|   0|    0|           0|    0|       0|    0|      0|     0|     0|            0|      0|      0|     0|     1|     0|     0|        0|      1|         0|            0|    0|     0|          0|           0|       0|      0|      0|   0|\n",
      "|  Witch Hunter Robin| 7.27|Action, Mystery, ...|ches are individu...|[Action, Mystery,...|   0|   0|     1|        0|   0|     0|       0|     0|    1|    0|      0|   0|    0|         0|     0|    0|   0|    1|           0|    0|       0|    0|      1|     0|     1|            0|      0|      0|     0|     0|     0|     0|        0|      0|         0|            0|    0|     0|          0|           1|       0|      0|      0|   0|\n",
      "|      Bouken Ou Beet| 6.98|Adventure, Fantas...|It is the dark ce...|[Adventure, Fanta...|   0|   0|     0|        1|   0|     0|       0|     0|    0|    0|      1|   0|    0|         0|     0|    0|   0|    0|           0|    0|       0|    0|      0|     0|     0|            0|      0|      0|     0|     0|     0|     0|        0|      1|         0|            0|    0|     0|          0|           1|       0|      0|      0|   0|\n",
      "+--------------------+-----+--------------------+--------------------+--------------------+----+----+------+---------+----+------+--------+------+-----+-----+-------+----+-----+----------+------+-----+----+-----+------------+-----+--------+-----+-------+------+------+-------------+-------+-------+------+------+------+------+---------+-------+----------+-------------+-----+------+-----------+------------+--------+-------+-------+----+\n",
      "only showing top 5 rows\n",
      "\n"
     ]
    }
   ],
   "source": [
    "# One hot encoding\n",
    "genres_set = anime.withColumn('exploded_genres', F.explode('Genres_split')).agg(F.collect_set('exploded_genres')).collect()[0][0]\n",
    "\n",
    "genres_set = sorted(genres_set)\n",
    "\n",
    "for genre in genres_set:\n",
    "    anime = anime.withColumn(genre, F.when(F.array_contains('Genres_split', genre), 1).otherwise(0))\n",
    "    \n",
    "print(anime.printSchema())\n",
    "anime.show(5)"
   ]
  },
  {
   "cell_type": "code",
   "execution_count": 21,
   "metadata": {},
   "outputs": [
    {
     "name": "stdout",
     "output_type": "stream",
     "text": [
      "root\n",
      " |-- Name: string (nullable = true)\n",
      " |-- Score: string (nullable = true)\n",
      " |-- Synopsis: string (nullable = true)\n",
      " |-- Action: integer (nullable = false)\n",
      " |-- Adventure: integer (nullable = false)\n",
      " |-- Cars: integer (nullable = false)\n",
      " |-- Comedy: integer (nullable = false)\n",
      " |-- Dementia: integer (nullable = false)\n",
      " |-- Demons: integer (nullable = false)\n",
      " |-- Drama: integer (nullable = false)\n",
      " |-- Ecchi: integer (nullable = false)\n",
      " |-- Fantasy: integer (nullable = false)\n",
      " |-- Game: integer (nullable = false)\n",
      " |-- Harem: integer (nullable = false)\n",
      " |-- Historical: integer (nullable = false)\n",
      " |-- Horror: integer (nullable = false)\n",
      " |-- Josei: integer (nullable = false)\n",
      " |-- Kids: integer (nullable = false)\n",
      " |-- Magic: integer (nullable = false)\n",
      " |-- Martial Arts: integer (nullable = false)\n",
      " |-- Mecha: integer (nullable = false)\n",
      " |-- Military: integer (nullable = false)\n",
      " |-- Music: integer (nullable = false)\n",
      " |-- Mystery: integer (nullable = false)\n",
      " |-- Parody: integer (nullable = false)\n",
      " |-- Police: integer (nullable = false)\n",
      " |-- Psychological: integer (nullable = false)\n",
      " |-- Romance: integer (nullable = false)\n",
      " |-- Samurai: integer (nullable = false)\n",
      " |-- School: integer (nullable = false)\n",
      " |-- Sci-Fi: integer (nullable = false)\n",
      " |-- Seinen: integer (nullable = false)\n",
      " |-- Shoujo: integer (nullable = false)\n",
      " |-- Shoujo Ai: integer (nullable = false)\n",
      " |-- Shounen: integer (nullable = false)\n",
      " |-- Shounen Ai: integer (nullable = false)\n",
      " |-- Slice of Life: integer (nullable = false)\n",
      " |-- Space: integer (nullable = false)\n",
      " |-- Sports: integer (nullable = false)\n",
      " |-- Super Power: integer (nullable = false)\n",
      " |-- Supernatural: integer (nullable = false)\n",
      " |-- Thriller: integer (nullable = false)\n",
      " |-- Unknown: integer (nullable = false)\n",
      " |-- Vampire: integer (nullable = false)\n",
      " |-- Yaoi: integer (nullable = false)\n",
      "\n"
     ]
    }
   ],
   "source": [
    "# Dropping unwanted columns\n",
    "anime = anime.drop('Genres', 'Genres_split', '6.45', '7.14')\n",
    "    \n",
    "anime.printSchema()"
   ]
  },
  {
   "attachments": {},
   "cell_type": "markdown",
   "metadata": {},
   "source": [
    "### Cleaning Text"
   ]
  },
  {
   "attachments": {},
   "cell_type": "markdown",
   "metadata": {},
   "source": [
    "Before usig TF-IDF on the synopsis column, we need to clean it by:\n",
    "1. Removing punctuation\n",
    "2. Lower casing\n",
    "3. Removing stop words"
   ]
  },
  {
   "cell_type": "code",
   "execution_count": 22,
   "metadata": {},
   "outputs": [
    {
     "name": "stdout",
     "output_type": "stream",
     "text": [
      "+--------------------+--------------------+\n",
      "|            Synopsis|   Synopsis_cleaning|\n",
      "+--------------------+--------------------+\n",
      "|\"In the year 2071...|In the year 2071 ...|\n",
      "|other day, anothe...|other day another...|\n",
      "|\"Vash the Stamped...|Vash the Stampede...|\n",
      "|ches are individu...|ches are individu...|\n",
      "|It is the dark ce...|It is the dark ce...|\n",
      "+--------------------+--------------------+\n",
      "only showing top 5 rows\n",
      "\n"
     ]
    }
   ],
   "source": [
    "# Removing punctuation from synopsis\n",
    "anime = anime.withColumn(\"Synopsis_cleaning\", F.regexp_replace('Synopsis', r\"\"\"[!\\\"#$%&'()*+,\\-.\\/:;<=>?@\\[\\\\\\]^_`{|}~]\"\"\", ''))\n",
    "\n",
    "anime.select(\"Synopsis\", \"Synopsis_cleaning\").show(5)"
   ]
  },
  {
   "cell_type": "code",
   "execution_count": 23,
   "metadata": {},
   "outputs": [
    {
     "name": "stdout",
     "output_type": "stream",
     "text": [
      "+--------------------+--------------------+\n",
      "|            Synopsis|   Synopsis_cleaning|\n",
      "+--------------------+--------------------+\n",
      "|\"In the year 2071...|in the year 2071 ...|\n",
      "|other day, anothe...|other day another...|\n",
      "|\"Vash the Stamped...|vash the stampede...|\n",
      "|ches are individu...|ches are individu...|\n",
      "|It is the dark ce...|it is the dark ce...|\n",
      "+--------------------+--------------------+\n",
      "only showing top 5 rows\n",
      "\n"
     ]
    }
   ],
   "source": [
    "# lower case words\n",
    "anime = anime.withColumn(\"Synopsis_cleaning\", F.lower(F.col('Synopsis_cleaning')))\n",
    "\n",
    "anime.select(\"Synopsis\", \"Synopsis_cleaning\").show(5)"
   ]
  },
  {
   "cell_type": "code",
   "execution_count": 24,
   "metadata": {},
   "outputs": [
    {
     "name": "stdout",
     "output_type": "stream",
     "text": [
      "+--------------------+--------------------+\n",
      "|            Synopsis|      Synopsis_clean|\n",
      "+--------------------+--------------------+\n",
      "|\"In the year 2071...|year 2071 humanit...|\n",
      "|other day, anothe...|day another bount...|\n",
      "|\"Vash the Stamped...|vash stampede man...|\n",
      "|ches are individu...|ches individuals ...|\n",
      "|It is the dark ce...|dark century peop...|\n",
      "+--------------------+--------------------+\n",
      "only showing top 5 rows\n",
      "\n"
     ]
    }
   ],
   "source": [
    "# Remove stop words\n",
    "\n",
    "anime = anime.withColumn(\"Synopsis_cleaning\", F.split(anime['Synopsis_cleaning'], ' '))\n",
    "\n",
    "remover = StopWordsRemover().setInputCol('Synopsis_cleaning').setOutputCol('Synopsis_clean')\n",
    "\n",
    "anime = remover.transform(anime)\n",
    "\n",
    "anime = anime.withColumn('Synopsis_clean', F.concat_ws(\" \",F.col('Synopsis_clean')))\n",
    "\n",
    "anime.select(\"Synopsis\", \"Synopsis_clean\").show(5)"
   ]
  },
  {
   "cell_type": "code",
   "execution_count": 25,
   "metadata": {},
   "outputs": [
    {
     "name": "stdout",
     "output_type": "stream",
     "text": [
      "root\n",
      " |-- Name: string (nullable = true)\n",
      " |-- Score: string (nullable = true)\n",
      " |-- Synopsis: string (nullable = true)\n",
      " |-- Action: integer (nullable = false)\n",
      " |-- Adventure: integer (nullable = false)\n",
      " |-- Cars: integer (nullable = false)\n",
      " |-- Comedy: integer (nullable = false)\n",
      " |-- Dementia: integer (nullable = false)\n",
      " |-- Demons: integer (nullable = false)\n",
      " |-- Drama: integer (nullable = false)\n",
      " |-- Ecchi: integer (nullable = false)\n",
      " |-- Fantasy: integer (nullable = false)\n",
      " |-- Game: integer (nullable = false)\n",
      " |-- Harem: integer (nullable = false)\n",
      " |-- Historical: integer (nullable = false)\n",
      " |-- Horror: integer (nullable = false)\n",
      " |-- Josei: integer (nullable = false)\n",
      " |-- Kids: integer (nullable = false)\n",
      " |-- Magic: integer (nullable = false)\n",
      " |-- Martial Arts: integer (nullable = false)\n",
      " |-- Mecha: integer (nullable = false)\n",
      " |-- Military: integer (nullable = false)\n",
      " |-- Music: integer (nullable = false)\n",
      " |-- Mystery: integer (nullable = false)\n",
      " |-- Parody: integer (nullable = false)\n",
      " |-- Police: integer (nullable = false)\n",
      " |-- Psychological: integer (nullable = false)\n",
      " |-- Romance: integer (nullable = false)\n",
      " |-- Samurai: integer (nullable = false)\n",
      " |-- School: integer (nullable = false)\n",
      " |-- Sci-Fi: integer (nullable = false)\n",
      " |-- Seinen: integer (nullable = false)\n",
      " |-- Shoujo: integer (nullable = false)\n",
      " |-- Shoujo Ai: integer (nullable = false)\n",
      " |-- Shounen: integer (nullable = false)\n",
      " |-- Shounen Ai: integer (nullable = false)\n",
      " |-- Slice of Life: integer (nullable = false)\n",
      " |-- Space: integer (nullable = false)\n",
      " |-- Sports: integer (nullable = false)\n",
      " |-- Super Power: integer (nullable = false)\n",
      " |-- Supernatural: integer (nullable = false)\n",
      " |-- Thriller: integer (nullable = false)\n",
      " |-- Unknown: integer (nullable = false)\n",
      " |-- Vampire: integer (nullable = false)\n",
      " |-- Yaoi: integer (nullable = false)\n",
      " |-- Synopsis_cleaning: array (nullable = true)\n",
      " |    |-- element: string (containsNull = false)\n",
      " |-- Synopsis_clean: string (nullable = false)\n",
      "\n"
     ]
    }
   ],
   "source": [
    "anime.printSchema()"
   ]
  },
  {
   "cell_type": "code",
   "execution_count": 26,
   "metadata": {},
   "outputs": [
    {
     "name": "stdout",
     "output_type": "stream",
     "text": [
      "root\n",
      " |-- Name: string (nullable = true)\n",
      " |-- Score: string (nullable = true)\n",
      " |-- Action: integer (nullable = false)\n",
      " |-- Adventure: integer (nullable = false)\n",
      " |-- Cars: integer (nullable = false)\n",
      " |-- Comedy: integer (nullable = false)\n",
      " |-- Dementia: integer (nullable = false)\n",
      " |-- Demons: integer (nullable = false)\n",
      " |-- Drama: integer (nullable = false)\n",
      " |-- Ecchi: integer (nullable = false)\n",
      " |-- Fantasy: integer (nullable = false)\n",
      " |-- Game: integer (nullable = false)\n",
      " |-- Harem: integer (nullable = false)\n",
      " |-- Historical: integer (nullable = false)\n",
      " |-- Horror: integer (nullable = false)\n",
      " |-- Josei: integer (nullable = false)\n",
      " |-- Kids: integer (nullable = false)\n",
      " |-- Magic: integer (nullable = false)\n",
      " |-- Martial Arts: integer (nullable = false)\n",
      " |-- Mecha: integer (nullable = false)\n",
      " |-- Military: integer (nullable = false)\n",
      " |-- Music: integer (nullable = false)\n",
      " |-- Mystery: integer (nullable = false)\n",
      " |-- Parody: integer (nullable = false)\n",
      " |-- Police: integer (nullable = false)\n",
      " |-- Psychological: integer (nullable = false)\n",
      " |-- Romance: integer (nullable = false)\n",
      " |-- Samurai: integer (nullable = false)\n",
      " |-- School: integer (nullable = false)\n",
      " |-- Sci-Fi: integer (nullable = false)\n",
      " |-- Seinen: integer (nullable = false)\n",
      " |-- Shoujo: integer (nullable = false)\n",
      " |-- Shoujo Ai: integer (nullable = false)\n",
      " |-- Shounen: integer (nullable = false)\n",
      " |-- Shounen Ai: integer (nullable = false)\n",
      " |-- Slice of Life: integer (nullable = false)\n",
      " |-- Space: integer (nullable = false)\n",
      " |-- Sports: integer (nullable = false)\n",
      " |-- Super Power: integer (nullable = false)\n",
      " |-- Supernatural: integer (nullable = false)\n",
      " |-- Thriller: integer (nullable = false)\n",
      " |-- Unknown: integer (nullable = false)\n",
      " |-- Vampire: integer (nullable = false)\n",
      " |-- Yaoi: integer (nullable = false)\n",
      " |-- Synopsis_clean: string (nullable = false)\n",
      "\n"
     ]
    }
   ],
   "source": [
    "# Removing unwanted columns\n",
    "anime = anime.drop(\"Synopsis\", \"Synopsis_cleaning\")\n",
    "\n",
    "anime.printSchema()"
   ]
  },
  {
   "attachments": {},
   "cell_type": "markdown",
   "metadata": {},
   "source": [
    "We will convert back to Pandas Dataframe to work with now."
   ]
  },
  {
   "cell_type": "code",
   "execution_count": 27,
   "metadata": {},
   "outputs": [
    {
     "data": {
      "text/html": [
       "<div>\n",
       "<style scoped>\n",
       "    .dataframe tbody tr th:only-of-type {\n",
       "        vertical-align: middle;\n",
       "    }\n",
       "\n",
       "    .dataframe tbody tr th {\n",
       "        vertical-align: top;\n",
       "    }\n",
       "\n",
       "    .dataframe thead th {\n",
       "        text-align: right;\n",
       "    }\n",
       "</style>\n",
       "<table border=\"1\" class=\"dataframe\">\n",
       "  <thead>\n",
       "    <tr style=\"text-align: right;\">\n",
       "      <th></th>\n",
       "      <th>Name</th>\n",
       "      <th>Score</th>\n",
       "      <th>Action</th>\n",
       "      <th>Adventure</th>\n",
       "      <th>Cars</th>\n",
       "      <th>Comedy</th>\n",
       "      <th>Dementia</th>\n",
       "      <th>Demons</th>\n",
       "      <th>Drama</th>\n",
       "      <th>Ecchi</th>\n",
       "      <th>...</th>\n",
       "      <th>Slice of Life</th>\n",
       "      <th>Space</th>\n",
       "      <th>Sports</th>\n",
       "      <th>Super Power</th>\n",
       "      <th>Supernatural</th>\n",
       "      <th>Thriller</th>\n",
       "      <th>Unknown</th>\n",
       "      <th>Vampire</th>\n",
       "      <th>Yaoi</th>\n",
       "      <th>Synopsis_clean</th>\n",
       "    </tr>\n",
       "  </thead>\n",
       "  <tbody>\n",
       "    <tr>\n",
       "      <th>0</th>\n",
       "      <td>Cowboy Bebop</td>\n",
       "      <td>8.78</td>\n",
       "      <td>1</td>\n",
       "      <td>1</td>\n",
       "      <td>0</td>\n",
       "      <td>1</td>\n",
       "      <td>0</td>\n",
       "      <td>0</td>\n",
       "      <td>1</td>\n",
       "      <td>0</td>\n",
       "      <td>...</td>\n",
       "      <td>0</td>\n",
       "      <td>1</td>\n",
       "      <td>0</td>\n",
       "      <td>0</td>\n",
       "      <td>0</td>\n",
       "      <td>0</td>\n",
       "      <td>0</td>\n",
       "      <td>0</td>\n",
       "      <td>0</td>\n",
       "      <td>year 2071 humanity colonized several planets m...</td>\n",
       "    </tr>\n",
       "    <tr>\n",
       "      <th>1</th>\n",
       "      <td>Cowboy Bebop: Tengoku no Tobira</td>\n",
       "      <td>8.39</td>\n",
       "      <td>1</td>\n",
       "      <td>0</td>\n",
       "      <td>0</td>\n",
       "      <td>0</td>\n",
       "      <td>0</td>\n",
       "      <td>0</td>\n",
       "      <td>1</td>\n",
       "      <td>0</td>\n",
       "      <td>...</td>\n",
       "      <td>0</td>\n",
       "      <td>1</td>\n",
       "      <td>0</td>\n",
       "      <td>0</td>\n",
       "      <td>0</td>\n",
       "      <td>0</td>\n",
       "      <td>0</td>\n",
       "      <td>0</td>\n",
       "      <td>0</td>\n",
       "      <td>day another bounty—such life often unlucky cre...</td>\n",
       "    </tr>\n",
       "    <tr>\n",
       "      <th>2</th>\n",
       "      <td>Trigun</td>\n",
       "      <td>8.24</td>\n",
       "      <td>1</td>\n",
       "      <td>1</td>\n",
       "      <td>0</td>\n",
       "      <td>1</td>\n",
       "      <td>0</td>\n",
       "      <td>0</td>\n",
       "      <td>1</td>\n",
       "      <td>0</td>\n",
       "      <td>...</td>\n",
       "      <td>0</td>\n",
       "      <td>0</td>\n",
       "      <td>0</td>\n",
       "      <td>0</td>\n",
       "      <td>0</td>\n",
       "      <td>0</td>\n",
       "      <td>0</td>\n",
       "      <td>0</td>\n",
       "      <td>0</td>\n",
       "      <td>vash stampede man 60000000000 bounty head reas...</td>\n",
       "    </tr>\n",
       "    <tr>\n",
       "      <th>3</th>\n",
       "      <td>Witch Hunter Robin</td>\n",
       "      <td>7.27</td>\n",
       "      <td>1</td>\n",
       "      <td>0</td>\n",
       "      <td>0</td>\n",
       "      <td>0</td>\n",
       "      <td>0</td>\n",
       "      <td>0</td>\n",
       "      <td>1</td>\n",
       "      <td>0</td>\n",
       "      <td>...</td>\n",
       "      <td>0</td>\n",
       "      <td>0</td>\n",
       "      <td>0</td>\n",
       "      <td>0</td>\n",
       "      <td>1</td>\n",
       "      <td>0</td>\n",
       "      <td>0</td>\n",
       "      <td>0</td>\n",
       "      <td>0</td>\n",
       "      <td>ches individuals special powers like esp telek...</td>\n",
       "    </tr>\n",
       "    <tr>\n",
       "      <th>4</th>\n",
       "      <td>Bouken Ou Beet</td>\n",
       "      <td>6.98</td>\n",
       "      <td>0</td>\n",
       "      <td>1</td>\n",
       "      <td>0</td>\n",
       "      <td>0</td>\n",
       "      <td>0</td>\n",
       "      <td>0</td>\n",
       "      <td>0</td>\n",
       "      <td>0</td>\n",
       "      <td>...</td>\n",
       "      <td>0</td>\n",
       "      <td>0</td>\n",
       "      <td>0</td>\n",
       "      <td>0</td>\n",
       "      <td>1</td>\n",
       "      <td>0</td>\n",
       "      <td>0</td>\n",
       "      <td>0</td>\n",
       "      <td>0</td>\n",
       "      <td>dark century people suffering rule devil vande...</td>\n",
       "    </tr>\n",
       "  </tbody>\n",
       "</table>\n",
       "<p>5 rows × 45 columns</p>\n",
       "</div>"
      ],
      "text/plain": [
       "                              Name Score  Action  Adventure  Cars  Comedy  \\\n",
       "0                     Cowboy Bebop  8.78       1          1     0       1   \n",
       "1  Cowboy Bebop: Tengoku no Tobira  8.39       1          0     0       0   \n",
       "2                           Trigun  8.24       1          1     0       1   \n",
       "3               Witch Hunter Robin  7.27       1          0     0       0   \n",
       "4                   Bouken Ou Beet  6.98       0          1     0       0   \n",
       "\n",
       "   Dementia  Demons  Drama  Ecchi  ...  Slice of Life  Space  Sports  \\\n",
       "0         0       0      1      0  ...              0      1       0   \n",
       "1         0       0      1      0  ...              0      1       0   \n",
       "2         0       0      1      0  ...              0      0       0   \n",
       "3         0       0      1      0  ...              0      0       0   \n",
       "4         0       0      0      0  ...              0      0       0   \n",
       "\n",
       "   Super Power  Supernatural  Thriller  Unknown  Vampire  Yaoi  \\\n",
       "0            0             0         0        0        0     0   \n",
       "1            0             0         0        0        0     0   \n",
       "2            0             0         0        0        0     0   \n",
       "3            0             1         0        0        0     0   \n",
       "4            0             1         0        0        0     0   \n",
       "\n",
       "                                      Synopsis_clean  \n",
       "0  year 2071 humanity colonized several planets m...  \n",
       "1  day another bounty—such life often unlucky cre...  \n",
       "2  vash stampede man 60000000000 bounty head reas...  \n",
       "3  ches individuals special powers like esp telek...  \n",
       "4  dark century people suffering rule devil vande...  \n",
       "\n",
       "[5 rows x 45 columns]"
      ]
     },
     "execution_count": 27,
     "metadata": {},
     "output_type": "execute_result"
    }
   ],
   "source": [
    "# Converting to pandas dataframe\n",
    "anime_cleaned_df = anime.toPandas()\n",
    "\n",
    "anime_cleaned_df.head()"
   ]
  },
  {
   "attachments": {},
   "cell_type": "markdown",
   "metadata": {},
   "source": [
    "## Creating Similarity Matrices"
   ]
  },
  {
   "attachments": {},
   "cell_type": "markdown",
   "metadata": {},
   "source": [
    "Now we will begin the process of creating the similarity matrices. We will create on for genres and one for synopsis, then combine them."
   ]
  },
  {
   "cell_type": "code",
   "execution_count": 28,
   "metadata": {},
   "outputs": [
    {
     "data": {
      "text/plain": [
       "array([[1, 1, 0, ..., 0, 0, 0],\n",
       "       [1, 0, 0, ..., 0, 0, 0],\n",
       "       [1, 1, 0, ..., 0, 0, 0],\n",
       "       ...,\n",
       "       [0, 0, 0, ..., 0, 0, 0],\n",
       "       [0, 0, 0, ..., 0, 0, 0],\n",
       "       [0, 0, 0, ..., 0, 0, 0]])"
      ]
     },
     "execution_count": 28,
     "metadata": {},
     "output_type": "execute_result"
    }
   ],
   "source": [
    "# Creating a numpy array to hold all the one hot encoded genres\n",
    "genres_arr = anime_cleaned_df.drop(['Name', 'Score', 'Synopsis_clean'], axis=1).to_numpy()\n",
    "genres_arr"
   ]
  },
  {
   "attachments": {},
   "cell_type": "markdown",
   "metadata": {},
   "source": [
    "Now we can create a similarity matrix for genres:"
   ]
  },
  {
   "cell_type": "code",
   "execution_count": 29,
   "metadata": {},
   "outputs": [
    {
     "data": {
      "text/plain": [
       "array([[6, 4, 5, ..., 1, 0, 1],\n",
       "       [4, 5, 3, ..., 0, 1, 0],\n",
       "       [5, 3, 6, ..., 1, 1, 1],\n",
       "       ...,\n",
       "       [1, 0, 1, ..., 2, 0, 1],\n",
       "       [0, 1, 1, ..., 0, 5, 0],\n",
       "       [1, 0, 1, ..., 1, 0, 2]])"
      ]
     },
     "execution_count": 29,
     "metadata": {},
     "output_type": "execute_result"
    }
   ],
   "source": [
    "# Creating a genres matrix as the dot product of the genres 2d array with itself transposed\n",
    "genres_matr = np.dot(genres_arr, np.transpose(genres_arr))\n",
    "genres_matr\n",
    "# Needs normalising!"
   ]
  },
  {
   "attachments": {},
   "cell_type": "markdown",
   "metadata": {},
   "source": [
    "The similarity scores will benefit from normalisation, especially because we want to combine these with the synopsis similarity scores we will obtain soon (from TF-IDF transformation), and those scores will be in the 0-1 range also."
   ]
  },
  {
   "cell_type": "code",
   "execution_count": 30,
   "metadata": {},
   "outputs": [
    {
     "data": {
      "text/plain": [
       "array([6, 5, 6, ..., 2, 5, 2])"
      ]
     },
     "execution_count": 30,
     "metadata": {},
     "output_type": "execute_result"
    }
   ],
   "source": [
    "# Retrieve a vector for the max value of the genre matrix for each row\n",
    "max_genres_vector = genres_matr.max(axis=1)\n",
    "max_genres_vector"
   ]
  },
  {
   "cell_type": "code",
   "execution_count": 31,
   "metadata": {},
   "outputs": [
    {
     "data": {
      "text/plain": [
       "array([0, 0, 0, ..., 0, 0, 0])"
      ]
     },
     "execution_count": 31,
     "metadata": {},
     "output_type": "execute_result"
    }
   ],
   "source": [
    "# Retrieve a vector for the min value of the genre matrix for each row\n",
    "min_genres_vector = genres_matr.min(axis=1)\n",
    "min_genres_vector"
   ]
  },
  {
   "cell_type": "code",
   "execution_count": 32,
   "metadata": {},
   "outputs": [
    {
     "data": {
      "text/plain": [
       "array([6, 5, 6, ..., 2, 5, 2])"
      ]
     },
     "execution_count": 32,
     "metadata": {},
     "output_type": "execute_result"
    }
   ],
   "source": [
    "# Max-min range\n",
    "max_min_genres_vector = max_genres_vector - min_genres_vector\n",
    "max_min_genres_vector"
   ]
  },
  {
   "cell_type": "code",
   "execution_count": 33,
   "metadata": {},
   "outputs": [
    {
     "name": "stderr",
     "output_type": "stream",
     "text": [
      "C:\\Users\\Abu Hasan\\AppData\\Local\\Temp\\ipykernel_2600\\3745486519.py:2: RuntimeWarning: invalid value encountered in divide\n",
      "  norm_genres_matr = (genres_matr - min_genres_vector[:, None])/(max_min_genres_vector[:, None])\n"
     ]
    },
    {
     "data": {
      "text/plain": [
       "array([[1.        , 0.66666667, 0.83333333, ..., 0.16666667, 0.        ,\n",
       "        0.16666667],\n",
       "       [0.8       , 1.        , 0.6       , ..., 0.        , 0.2       ,\n",
       "        0.        ],\n",
       "       [0.83333333, 0.5       , 1.        , ..., 0.16666667, 0.16666667,\n",
       "        0.16666667],\n",
       "       ...,\n",
       "       [0.5       , 0.        , 0.5       , ..., 1.        , 0.        ,\n",
       "        0.5       ],\n",
       "       [0.        , 0.2       , 0.2       , ..., 0.        , 1.        ,\n",
       "        0.        ],\n",
       "       [0.5       , 0.        , 0.5       , ..., 0.5       , 0.        ,\n",
       "        1.        ]])"
      ]
     },
     "execution_count": 33,
     "metadata": {},
     "output_type": "execute_result"
    }
   ],
   "source": [
    "# Max-min normalisation for genres matrix\n",
    "norm_genres_matr = (genres_matr - min_genres_vector[:, None])/(max_min_genres_vector[:, None])\n",
    "norm_genres_matr"
   ]
  },
  {
   "attachments": {},
   "cell_type": "markdown",
   "metadata": {},
   "source": [
    "Now that we have the normalised genres similarity matrix, let's obtain the same for synopsis (using TF-IDF)."
   ]
  },
  {
   "attachments": {},
   "cell_type": "markdown",
   "metadata": {},
   "source": [
    "### TF-IDF"
   ]
  },
  {
   "cell_type": "code",
   "execution_count": 34,
   "metadata": {},
   "outputs": [
    {
     "data": {
      "text/plain": [
       "<11091x41760 sparse matrix of type '<class 'numpy.float64'>'\n",
       "\twith 361245 stored elements in Compressed Sparse Row format>"
      ]
     },
     "execution_count": 34,
     "metadata": {},
     "output_type": "execute_result"
    }
   ],
   "source": [
    "# Retrieve TFIDF transformation for the synopsis\n",
    "v = TfidfVectorizer()\n",
    "tfidf = v.fit_transform(anime_cleaned_df['Synopsis_clean'])\n",
    "tfidf # it is a scipy sparse matrix"
   ]
  },
  {
   "attachments": {},
   "cell_type": "markdown",
   "metadata": {},
   "source": [
    "The result is a sparse matrix, we want it to be the same type as the matrix for genres, so we will convert the genres one to be the same type."
   ]
  },
  {
   "cell_type": "code",
   "execution_count": 35,
   "metadata": {},
   "outputs": [],
   "source": [
    "# Convert genres numpy matrix to scipy matrix to use with tfidf\n",
    "# This is the genres similarity matrix\n",
    "genres_sm = sparse.csc_matrix(norm_genres_matr)"
   ]
  },
  {
   "attachments": {},
   "cell_type": "markdown",
   "metadata": {},
   "source": [
    "Now we create the similarity matrix for synopsis (TF-IDF transformed):"
   ]
  },
  {
   "cell_type": "code",
   "execution_count": 36,
   "metadata": {},
   "outputs": [
    {
     "data": {
      "text/plain": [
       "<11091x11091 sparse matrix of type '<class 'numpy.float64'>'\n",
       "\twith 44480639 stored elements in Compressed Sparse Row format>"
      ]
     },
     "execution_count": 36,
     "metadata": {},
     "output_type": "execute_result"
    }
   ],
   "source": [
    "# TFIDF similarity matrix\n",
    "tfidf_sm = np.dot(tfidf, np.transpose(tfidf))\n",
    "tfidf_sm"
   ]
  },
  {
   "attachments": {},
   "cell_type": "markdown",
   "metadata": {},
   "source": [
    "### Combining Similarity Matrices"
   ]
  },
  {
   "attachments": {},
   "cell_type": "markdown",
   "metadata": {},
   "source": [
    "There are two ways we will try out to combine the similarity scores of both the genres and synopsis matrices. Note that we are doing this to obtain a combined score of similarity for each anime pair.\n",
    "\n",
    "The first method is simply just averaging. This involves adding both matrices by element and then dividing by 2. The trouble is this implies that both the synopsis and genres have the same weight for recommendations. There isn't actually a right answer for what the weightings should be, because it is up to us - do we want to recommend more off synopsis, or do we want to recommend more off genre?\n",
    "\n",
    "The second method is the geometric mean of both matrices, which in our case would be the square root of both matrices multipled. This gives a little more consideration to the importance of information provided by both matrices.\n",
    "\n",
    "We will try both these methods out and then combine them to give us our final similarity matrix."
   ]
  },
  {
   "cell_type": "code",
   "execution_count": 37,
   "metadata": {},
   "outputs": [
    {
     "data": {
      "text/plain": [
       "<11091x11091 sparse matrix of type '<class 'numpy.float64'>'\n",
       "\twith 74670437 stored elements in Compressed Sparse Column format>"
      ]
     },
     "execution_count": 37,
     "metadata": {},
     "output_type": "execute_result"
    }
   ],
   "source": [
    "# Add both and divide by 2 to get the average similarities of both\n",
    "average_sm = (genres_sm + tfidf_sm) / 2\n",
    "average_sm"
   ]
  },
  {
   "attachments": {},
   "cell_type": "markdown",
   "metadata": {},
   "source": [
    "Let's have a look at how the average similarity matrix looks."
   ]
  },
  {
   "cell_type": "code",
   "execution_count": 38,
   "metadata": {},
   "outputs": [
    {
     "name": "stdout",
     "output_type": "stream",
     "text": [
      "[[1.         0.66666667 0.83333333 ... 0.16666667 0.         0.16666667]]\n",
      "[[1.         0.13925599 0.02920766 ... 0.         0.01335555 0.        ]]\n",
      "[[1.         0.40296133 0.4312705  ... 0.08333333 0.00667778 0.08333333]]\n"
     ]
    }
   ],
   "source": [
    "# Let us have a look at the similarities for genre, TFIDF, and both averaged for Cowboy Bebop\n",
    "print(genres_sm.todense()[0])\n",
    "print(tfidf_sm.todense()[0])\n",
    "print(average_sm.todense()[0])"
   ]
  },
  {
   "attachments": {},
   "cell_type": "markdown",
   "metadata": {},
   "source": [
    "Just as we calculated, each pairing similarity score is the average of the two individuals for genre and synopsis."
   ]
  },
  {
   "attachments": {},
   "cell_type": "markdown",
   "metadata": {},
   "source": [
    "Now we will create the geometric mean similarity matrix:"
   ]
  },
  {
   "cell_type": "code",
   "execution_count": 39,
   "metadata": {},
   "outputs": [
    {
     "data": {
      "text/plain": [
       "matrix([[1.        , 0.30469218, 0.15601191, ..., 0.        , 0.        ,\n",
       "         0.        ]])"
      ]
     },
     "execution_count": 39,
     "metadata": {},
     "output_type": "execute_result"
    }
   ],
   "source": [
    "# The similarities maybe should not have equal importance for genre and synopsis\n",
    "# Workout the geometric mean of both\n",
    "gmean_sm = genres_sm.multiply(tfidf_sm).sqrt()\n",
    "gmean_sm.todense()[0]"
   ]
  },
  {
   "attachments": {},
   "cell_type": "markdown",
   "metadata": {},
   "source": [
    "Compared to the average similarity matrix, it looks like the scores drop heavily when either of the scores is very low. E.g. if the synopsis similarity of a pair is low but the genre similarity is high, the average similarity matrix would give a similarity score that is neither low nor high, but the geometric mean similarity score would still be low."
   ]
  },
  {
   "attachments": {},
   "cell_type": "markdown",
   "metadata": {},
   "source": [
    "We will combine both for best results."
   ]
  },
  {
   "cell_type": "code",
   "execution_count": 40,
   "metadata": {},
   "outputs": [
    {
     "data": {
      "text/plain": [
       "matrix([[1.        , 0.35382676, 0.2936412 , ..., 0.04166667, 0.00333889,\n",
       "         0.04166667]])"
      ]
     },
     "execution_count": 40,
     "metadata": {},
     "output_type": "execute_result"
    }
   ],
   "source": [
    "# Combine the average similarity matrix and the geometrix mean similarity matrix to get the final one\n",
    "sm = (average_sm + gmean_sm) / 2\n",
    "sm.todense()[0]"
   ]
  },
  {
   "attachments": {},
   "cell_type": "markdown",
   "metadata": {},
   "source": [
    "## Testing"
   ]
  },
  {
   "attachments": {},
   "cell_type": "markdown",
   "metadata": {},
   "source": [
    "Let us test our final similarity matrix using Cowboy Bebop."
   ]
  },
  {
   "cell_type": "code",
   "execution_count": 41,
   "metadata": {},
   "outputs": [
    {
     "data": {
      "text/html": [
       "<div>\n",
       "<style scoped>\n",
       "    .dataframe tbody tr th:only-of-type {\n",
       "        vertical-align: middle;\n",
       "    }\n",
       "\n",
       "    .dataframe tbody tr th {\n",
       "        vertical-align: top;\n",
       "    }\n",
       "\n",
       "    .dataframe thead th {\n",
       "        text-align: right;\n",
       "    }\n",
       "</style>\n",
       "<table border=\"1\" class=\"dataframe\">\n",
       "  <thead>\n",
       "    <tr style=\"text-align: right;\">\n",
       "      <th></th>\n",
       "      <th>Name</th>\n",
       "      <th>Score</th>\n",
       "      <th>Genres</th>\n",
       "      <th>Synopsis</th>\n",
       "    </tr>\n",
       "  </thead>\n",
       "  <tbody>\n",
       "    <tr>\n",
       "      <th>0</th>\n",
       "      <td>Cowboy Bebop</td>\n",
       "      <td>8.78</td>\n",
       "      <td>Action, Adventure, Comedy, Drama, Sci-Fi, Space</td>\n",
       "      <td>\"In the year 2071, humanity has colonized seve...</td>\n",
       "    </tr>\n",
       "    <tr>\n",
       "      <th>1</th>\n",
       "      <td>Cowboy Bebop: Tengoku no Tobira</td>\n",
       "      <td>8.39</td>\n",
       "      <td>Action, Drama, Mystery, Sci-Fi, Space</td>\n",
       "      <td>other day, another bounty—such is the life of ...</td>\n",
       "    </tr>\n",
       "    <tr>\n",
       "      <th>2</th>\n",
       "      <td>Trigun</td>\n",
       "      <td>8.24</td>\n",
       "      <td>Action, Sci-Fi, Adventure, Comedy, Drama, Shounen</td>\n",
       "      <td>\"Vash the Stampede is the man with a $$60,000,...</td>\n",
       "    </tr>\n",
       "    <tr>\n",
       "      <th>3</th>\n",
       "      <td>Witch Hunter Robin</td>\n",
       "      <td>7.27</td>\n",
       "      <td>Action, Mystery, Police, Supernatural, Drama, ...</td>\n",
       "      <td>ches are individuals with special powers like ...</td>\n",
       "    </tr>\n",
       "    <tr>\n",
       "      <th>4</th>\n",
       "      <td>Bouken Ou Beet</td>\n",
       "      <td>6.98</td>\n",
       "      <td>Adventure, Fantasy, Shounen, Supernatural</td>\n",
       "      <td>It is the dark century and the people are suff...</td>\n",
       "    </tr>\n",
       "  </tbody>\n",
       "</table>\n",
       "</div>"
      ],
      "text/plain": [
       "                              Name Score  \\\n",
       "0                     Cowboy Bebop  8.78   \n",
       "1  Cowboy Bebop: Tengoku no Tobira  8.39   \n",
       "2                           Trigun  8.24   \n",
       "3               Witch Hunter Robin  7.27   \n",
       "4                   Bouken Ou Beet  6.98   \n",
       "\n",
       "                                              Genres  \\\n",
       "0    Action, Adventure, Comedy, Drama, Sci-Fi, Space   \n",
       "1              Action, Drama, Mystery, Sci-Fi, Space   \n",
       "2  Action, Sci-Fi, Adventure, Comedy, Drama, Shounen   \n",
       "3  Action, Mystery, Police, Supernatural, Drama, ...   \n",
       "4          Adventure, Fantasy, Shounen, Supernatural   \n",
       "\n",
       "                                            Synopsis  \n",
       "0  \"In the year 2071, humanity has colonized seve...  \n",
       "1  other day, another bounty—such is the life of ...  \n",
       "2  \"Vash the Stampede is the man with a $$60,000,...  \n",
       "3  ches are individuals with special powers like ...  \n",
       "4  It is the dark century and the people are suff...  "
      ]
     },
     "execution_count": 41,
     "metadata": {},
     "output_type": "execute_result"
    }
   ],
   "source": [
    "# Pandas df of original df to return recommendations\n",
    "anime_df = anime_sdf.toPandas()\n",
    "\n",
    "anime_df.head()"
   ]
  },
  {
   "cell_type": "code",
   "execution_count": 42,
   "metadata": {},
   "outputs": [],
   "source": [
    "# Use densed matrix\n",
    "dense_sm = sm.todense()"
   ]
  },
  {
   "attachments": {},
   "cell_type": "markdown",
   "metadata": {},
   "source": [
    "First we will retrieve the index of each anime that has a similarity score of more than 0.3 with Cowboy Bebop."
   ]
  },
  {
   "cell_type": "code",
   "execution_count": 43,
   "metadata": {},
   "outputs": [
    {
     "data": {
      "text/plain": [
       "[0,\n",
       " 1,\n",
       " 39,\n",
       " 74,\n",
       " 75,\n",
       " 365,\n",
       " 527,\n",
       " 834,\n",
       " 881,\n",
       " 1092,\n",
       " 1145,\n",
       " 1222,\n",
       " 1225,\n",
       " 1300,\n",
       " 1411,\n",
       " 1433,\n",
       " 1646,\n",
       " 1878,\n",
       " 1907,\n",
       " 1908,\n",
       " 2021,\n",
       " 2177,\n",
       " 2191,\n",
       " 2522,\n",
       " 2525,\n",
       " 2993,\n",
       " 3093,\n",
       " 3257,\n",
       " 3583,\n",
       " 6736]"
      ]
     },
     "execution_count": 43,
     "metadata": {},
     "output_type": "execute_result"
    }
   ],
   "source": [
    "# Test find the anime which are similar to Cowboy Bebop by genre and synopsis\n",
    "cowboy_bebop_sim_idx = np.where(dense_sm[0] > 0.3)[1].tolist()\n",
    "cowboy_bebop_sim_idx"
   ]
  },
  {
   "attachments": {},
   "cell_type": "markdown",
   "metadata": {},
   "source": [
    "Now we can use those indices to retrieve their scores too."
   ]
  },
  {
   "cell_type": "code",
   "execution_count": 44,
   "metadata": {},
   "outputs": [
    {
     "data": {
      "text/plain": [
       "[1.0,\n",
       " 0.3538267555619954,\n",
       " 0.30156571791789183,\n",
       " 0.3686875854350235,\n",
       " 0.33455845888115077,\n",
       " 0.40230339444965446,\n",
       " 0.32431680375960464,\n",
       " 0.3140748961880193,\n",
       " 0.3389283728674283,\n",
       " 0.338630613251939,\n",
       " 0.4244131664629514,\n",
       " 0.3432676618297479,\n",
       " 0.32171427360080157,\n",
       " 0.3133713712976669,\n",
       " 0.30134085486704315,\n",
       " 0.32263063509104695,\n",
       " 0.3039864112034351,\n",
       " 0.3291693394721288,\n",
       " 0.3066952765778514,\n",
       " 0.33187348292362223,\n",
       " 0.36943748196731385,\n",
       " 0.3401960563610572,\n",
       " 0.36733068688783344,\n",
       " 0.3118898636881699,\n",
       " 0.3339970911088977,\n",
       " 0.36303922700896557,\n",
       " 0.4509182566105018,\n",
       " 0.34624455191691395,\n",
       " 0.33943826757668283,\n",
       " 0.31411005766453426]"
      ]
     },
     "execution_count": 44,
     "metadata": {},
     "output_type": "execute_result"
    }
   ],
   "source": [
    "# Retrieve the scores for the similar anime to Cowboy Bebop so we can see which is the most similar\n",
    "cowboy_bebop_sim_scores = np.array(dense_sm[0].tolist()[0])[cowboy_bebop_sim_idx].tolist()\n",
    "cowboy_bebop_sim_scores"
   ]
  },
  {
   "attachments": {},
   "cell_type": "markdown",
   "metadata": {},
   "source": [
    "Now we can print the titles from the original dataframe and add the scores as a column to then sort by."
   ]
  },
  {
   "cell_type": "code",
   "execution_count": 45,
   "metadata": {},
   "outputs": [
    {
     "name": "stderr",
     "output_type": "stream",
     "text": [
      "C:\\Users\\Abu Hasan\\AppData\\Local\\Temp\\ipykernel_2600\\371335498.py:3: SettingWithCopyWarning: \n",
      "A value is trying to be set on a copy of a slice from a DataFrame.\n",
      "Try using .loc[row_indexer,col_indexer] = value instead\n",
      "\n",
      "See the caveats in the documentation: https://pandas.pydata.org/pandas-docs/stable/user_guide/indexing.html#returning-a-view-versus-a-copy\n",
      "  cowboy_bebop_recoms['Similarity_Scores'] = cowboy_bebop_sim_scores\n"
     ]
    },
    {
     "data": {
      "text/html": [
       "<div>\n",
       "<style scoped>\n",
       "    .dataframe tbody tr th:only-of-type {\n",
       "        vertical-align: middle;\n",
       "    }\n",
       "\n",
       "    .dataframe tbody tr th {\n",
       "        vertical-align: top;\n",
       "    }\n",
       "\n",
       "    .dataframe thead th {\n",
       "        text-align: right;\n",
       "    }\n",
       "</style>\n",
       "<table border=\"1\" class=\"dataframe\">\n",
       "  <thead>\n",
       "    <tr style=\"text-align: right;\">\n",
       "      <th></th>\n",
       "      <th>Name</th>\n",
       "      <th>Score</th>\n",
       "      <th>Genres</th>\n",
       "      <th>Synopsis</th>\n",
       "      <th>Similarity_Scores</th>\n",
       "    </tr>\n",
       "  </thead>\n",
       "  <tbody>\n",
       "    <tr>\n",
       "      <th>0</th>\n",
       "      <td>Cowboy Bebop</td>\n",
       "      <td>8.78</td>\n",
       "      <td>Action, Adventure, Comedy, Drama, Sci-Fi, Space</td>\n",
       "      <td>\"In the year 2071, humanity has colonized seve...</td>\n",
       "      <td>1.000000</td>\n",
       "    </tr>\n",
       "    <tr>\n",
       "      <th>3093</th>\n",
       "      <td>Ginga Senpuu Braiger</td>\n",
       "      <td>6.68</td>\n",
       "      <td>Action, Sci-Fi, Adventure, Space, Mecha</td>\n",
       "      <td>In the year 2111, the solar system has been co...</td>\n",
       "      <td>0.450918</td>\n",
       "    </tr>\n",
       "    <tr>\n",
       "      <th>1145</th>\n",
       "      <td>Odin: Koushi Hansen Starlight</td>\n",
       "      <td>5.24</td>\n",
       "      <td>Action, Sci-Fi, Adventure, Space, Drama</td>\n",
       "      <td>\"In the year 2099, mankind has colonized parts...</td>\n",
       "      <td>0.424413</td>\n",
       "    </tr>\n",
       "    <tr>\n",
       "      <th>365</th>\n",
       "      <td>Seihou Bukyou Outlaw Star</td>\n",
       "      <td>7.87</td>\n",
       "      <td>Action, Sci-Fi, Adventure, Space, Comedy</td>\n",
       "      <td>Gene Starwind has always dreamed of piloting h...</td>\n",
       "      <td>0.402303</td>\n",
       "    </tr>\n",
       "    <tr>\n",
       "      <th>2021</th>\n",
       "      <td>Sei Juushi Bismarck</td>\n",
       "      <td>7.23</td>\n",
       "      <td>Action, Sci-Fi, Adventure, Space, Mecha</td>\n",
       "      <td>In the distant future, humanity has explored b...</td>\n",
       "      <td>0.369437</td>\n",
       "    </tr>\n",
       "    <tr>\n",
       "      <th>74</th>\n",
       "      <td>Turn A Gundam</td>\n",
       "      <td>7.7</td>\n",
       "      <td>Action, Military, Sci-Fi, Adventure, Space, Dr...</td>\n",
       "      <td>\"It is the Correct Century, two millennia afte...</td>\n",
       "      <td>0.368688</td>\n",
       "    </tr>\n",
       "    <tr>\n",
       "      <th>2191</th>\n",
       "      <td>Juusenki L-Gaim</td>\n",
       "      <td>6.7</td>\n",
       "      <td>Action, Sci-Fi, Adventure, Space, Drama, Mecha...</td>\n",
       "      <td>\"In the year 3990, the immortal Oldna Poseidal...</td>\n",
       "      <td>0.367331</td>\n",
       "    </tr>\n",
       "    <tr>\n",
       "      <th>2993</th>\n",
       "      <td>Cowboy Bebop: Yose Atsume Blues</td>\n",
       "      <td>7.44</td>\n",
       "      <td>Action, Adventure, Comedy, Drama, Sci-Fi, Space</td>\n",
       "      <td>\"Due to the violence portrayed in the Cowboy B...</td>\n",
       "      <td>0.363039</td>\n",
       "    </tr>\n",
       "    <tr>\n",
       "      <th>1</th>\n",
       "      <td>Cowboy Bebop: Tengoku no Tobira</td>\n",
       "      <td>8.39</td>\n",
       "      <td>Action, Drama, Mystery, Sci-Fi, Space</td>\n",
       "      <td>other day, another bounty—such is the life of ...</td>\n",
       "      <td>0.353827</td>\n",
       "    </tr>\n",
       "    <tr>\n",
       "      <th>3257</th>\n",
       "      <td>Yamato Takeru</td>\n",
       "      <td>6.78</td>\n",
       "      <td>Action, Adventure, Fantasy, Magic, Mecha, Sci-...</td>\n",
       "      <td>In the 25th century, a spaceship carrying 300 ...</td>\n",
       "      <td>0.346245</td>\n",
       "    </tr>\n",
       "  </tbody>\n",
       "</table>\n",
       "</div>"
      ],
      "text/plain": [
       "                                 Name Score  \\\n",
       "0                        Cowboy Bebop  8.78   \n",
       "3093             Ginga Senpuu Braiger  6.68   \n",
       "1145    Odin: Koushi Hansen Starlight  5.24   \n",
       "365         Seihou Bukyou Outlaw Star  7.87   \n",
       "2021              Sei Juushi Bismarck  7.23   \n",
       "74                      Turn A Gundam   7.7   \n",
       "2191                  Juusenki L-Gaim   6.7   \n",
       "2993  Cowboy Bebop: Yose Atsume Blues  7.44   \n",
       "1     Cowboy Bebop: Tengoku no Tobira  8.39   \n",
       "3257                    Yamato Takeru  6.78   \n",
       "\n",
       "                                                 Genres  \\\n",
       "0       Action, Adventure, Comedy, Drama, Sci-Fi, Space   \n",
       "3093            Action, Sci-Fi, Adventure, Space, Mecha   \n",
       "1145            Action, Sci-Fi, Adventure, Space, Drama   \n",
       "365            Action, Sci-Fi, Adventure, Space, Comedy   \n",
       "2021            Action, Sci-Fi, Adventure, Space, Mecha   \n",
       "74    Action, Military, Sci-Fi, Adventure, Space, Dr...   \n",
       "2191  Action, Sci-Fi, Adventure, Space, Drama, Mecha...   \n",
       "2993    Action, Adventure, Comedy, Drama, Sci-Fi, Space   \n",
       "1                 Action, Drama, Mystery, Sci-Fi, Space   \n",
       "3257  Action, Adventure, Fantasy, Magic, Mecha, Sci-...   \n",
       "\n",
       "                                               Synopsis  Similarity_Scores  \n",
       "0     \"In the year 2071, humanity has colonized seve...           1.000000  \n",
       "3093  In the year 2111, the solar system has been co...           0.450918  \n",
       "1145  \"In the year 2099, mankind has colonized parts...           0.424413  \n",
       "365   Gene Starwind has always dreamed of piloting h...           0.402303  \n",
       "2021  In the distant future, humanity has explored b...           0.369437  \n",
       "74    \"It is the Correct Century, two millennia afte...           0.368688  \n",
       "2191  \"In the year 3990, the immortal Oldna Poseidal...           0.367331  \n",
       "2993  \"Due to the violence portrayed in the Cowboy B...           0.363039  \n",
       "1     other day, another bounty—such is the life of ...           0.353827  \n",
       "3257  In the 25th century, a spaceship carrying 300 ...           0.346245  "
      ]
     },
     "execution_count": 45,
     "metadata": {},
     "output_type": "execute_result"
    }
   ],
   "source": [
    "# Print Cowboy Bebop recommendations\n",
    "cowboy_bebop_recoms = anime_df.iloc[cowboy_bebop_sim_idx]\n",
    "cowboy_bebop_recoms['Similarity_Scores'] = cowboy_bebop_sim_scores\n",
    "cowboy_bebop_recoms.sort_values(by='Similarity_Scores', ascending=False).head(10)\n",
    "# Can be improved by more features (such as year, voice actors etc.)"
   ]
  },
  {
   "attachments": {},
   "cell_type": "markdown",
   "metadata": {},
   "source": [
    "Looks okay! Let's create a function to test with any title."
   ]
  },
  {
   "cell_type": "code",
   "execution_count": 46,
   "metadata": {},
   "outputs": [],
   "source": [
    "# Create a function to try it out\n",
    "def get_recommendations(anime_name, threshold=0.3, sort_by='Similarity_Scores'):\n",
    "\n",
    "    # Return nothing if name not found\n",
    "    if anime_name not in anime_df['Name'].values:\n",
    "        print(\"Could not find an anime by that name. Please check punctuation and spelling.\")\n",
    "        return None\n",
    "    \n",
    "    # Find index of anime in anime dataframe\n",
    "    anime_idx = anime_df.index[anime_df['Name'] == anime_name].to_list()[0]\n",
    "\n",
    "    # Find indices of similar anime\n",
    "    sim_idx = np.where(dense_sm[anime_idx] > threshold)[1].tolist()\n",
    "\n",
    "    # Find similarity scores of similar anime\n",
    "    sim_scores = np.array(dense_sm[anime_idx].tolist()[0])[sim_idx].tolist()\n",
    "\n",
    "    recoms = anime_df.iloc[sim_idx]\n",
    "    recoms['Similarity_Scores'] = sim_scores\n",
    "    return recoms.sort_values(by=sort_by, ascending=False).head(10)\n",
    "        "
   ]
  },
  {
   "attachments": {},
   "cell_type": "markdown",
   "metadata": {},
   "source": [
    "Test function:"
   ]
  },
  {
   "cell_type": "code",
   "execution_count": 47,
   "metadata": {},
   "outputs": [
    {
     "name": "stderr",
     "output_type": "stream",
     "text": [
      "C:\\Users\\Abu Hasan\\AppData\\Local\\Temp\\ipykernel_2600\\2338346198.py:19: SettingWithCopyWarning: \n",
      "A value is trying to be set on a copy of a slice from a DataFrame.\n",
      "Try using .loc[row_indexer,col_indexer] = value instead\n",
      "\n",
      "See the caveats in the documentation: https://pandas.pydata.org/pandas-docs/stable/user_guide/indexing.html#returning-a-view-versus-a-copy\n",
      "  recoms['Similarity_Scores'] = sim_scores\n"
     ]
    },
    {
     "data": {
      "text/html": [
       "<div>\n",
       "<style scoped>\n",
       "    .dataframe tbody tr th:only-of-type {\n",
       "        vertical-align: middle;\n",
       "    }\n",
       "\n",
       "    .dataframe tbody tr th {\n",
       "        vertical-align: top;\n",
       "    }\n",
       "\n",
       "    .dataframe thead th {\n",
       "        text-align: right;\n",
       "    }\n",
       "</style>\n",
       "<table border=\"1\" class=\"dataframe\">\n",
       "  <thead>\n",
       "    <tr style=\"text-align: right;\">\n",
       "      <th></th>\n",
       "      <th>Name</th>\n",
       "      <th>Score</th>\n",
       "      <th>Genres</th>\n",
       "      <th>Synopsis</th>\n",
       "      <th>Similarity_Scores</th>\n",
       "    </tr>\n",
       "  </thead>\n",
       "  <tbody>\n",
       "    <tr>\n",
       "      <th>0</th>\n",
       "      <td>Cowboy Bebop</td>\n",
       "      <td>8.78</td>\n",
       "      <td>Action, Adventure, Comedy, Drama, Sci-Fi, Space</td>\n",
       "      <td>\"In the year 2071, humanity has colonized seve...</td>\n",
       "      <td>1.000000</td>\n",
       "    </tr>\n",
       "    <tr>\n",
       "      <th>1</th>\n",
       "      <td>Cowboy Bebop: Tengoku no Tobira</td>\n",
       "      <td>8.39</td>\n",
       "      <td>Action, Drama, Mystery, Sci-Fi, Space</td>\n",
       "      <td>other day, another bounty—such is the life of ...</td>\n",
       "      <td>0.353827</td>\n",
       "    </tr>\n",
       "    <tr>\n",
       "      <th>2177</th>\n",
       "      <td>Mobile Suit Gundam 00</td>\n",
       "      <td>8.14</td>\n",
       "      <td>Action, Military, Sci-Fi, Space, Drama, Mecha</td>\n",
       "      <td>\"In the distant future, mankind's dependence o...</td>\n",
       "      <td>0.340196</td>\n",
       "    </tr>\n",
       "    <tr>\n",
       "      <th>1878</th>\n",
       "      <td>Terra e... (TV)</td>\n",
       "      <td>7.92</td>\n",
       "      <td>Action, Drama, Military, Sci-Fi, Space</td>\n",
       "      <td>In the future, humans are living on colonized ...</td>\n",
       "      <td>0.329169</td>\n",
       "    </tr>\n",
       "    <tr>\n",
       "      <th>834</th>\n",
       "      <td>Top wo Nerae! Gunbuster</td>\n",
       "      <td>7.89</td>\n",
       "      <td>Action, Comedy, Drama, Mecha, Military, Sci-Fi...</td>\n",
       "      <td>\"In the near future, humanity has taken its fi...</td>\n",
       "      <td>0.314075</td>\n",
       "    </tr>\n",
       "    <tr>\n",
       "      <th>365</th>\n",
       "      <td>Seihou Bukyou Outlaw Star</td>\n",
       "      <td>7.87</td>\n",
       "      <td>Action, Sci-Fi, Adventure, Space, Comedy</td>\n",
       "      <td>Gene Starwind has always dreamed of piloting h...</td>\n",
       "      <td>0.402303</td>\n",
       "    </tr>\n",
       "    <tr>\n",
       "      <th>6736</th>\n",
       "      <td>Uchuu Senkan Yamato 2199: Hoshimeguru Hakobune</td>\n",
       "      <td>7.77</td>\n",
       "      <td>Action, Military, Sci-Fi, Space, Drama</td>\n",
       "      <td>\"2199 AD. Yamato tried to leave behind the Lar...</td>\n",
       "      <td>0.314110</td>\n",
       "    </tr>\n",
       "    <tr>\n",
       "      <th>881</th>\n",
       "      <td>Uchuu Kaizoku Captain Herlock</td>\n",
       "      <td>7.71</td>\n",
       "      <td>Action, Sci-Fi, Adventure, Space, Drama, Seinen</td>\n",
       "      <td>It is 2977 AD and mankind has become stagnant....</td>\n",
       "      <td>0.338928</td>\n",
       "    </tr>\n",
       "    <tr>\n",
       "      <th>74</th>\n",
       "      <td>Turn A Gundam</td>\n",
       "      <td>7.7</td>\n",
       "      <td>Action, Military, Sci-Fi, Adventure, Space, Dr...</td>\n",
       "      <td>\"It is the Correct Century, two millennia afte...</td>\n",
       "      <td>0.368688</td>\n",
       "    </tr>\n",
       "    <tr>\n",
       "      <th>1433</th>\n",
       "      <td>Uchuu Senkan Yamato</td>\n",
       "      <td>7.59</td>\n",
       "      <td>Action, Adventure, Drama, Military, Sci-Fi, Space</td>\n",
       "      <td>In the year 2199, Earth is a mere shell of its...</td>\n",
       "      <td>0.322631</td>\n",
       "    </tr>\n",
       "  </tbody>\n",
       "</table>\n",
       "</div>"
      ],
      "text/plain": [
       "                                                Name Score  \\\n",
       "0                                       Cowboy Bebop  8.78   \n",
       "1                    Cowboy Bebop: Tengoku no Tobira  8.39   \n",
       "2177                           Mobile Suit Gundam 00  8.14   \n",
       "1878                                 Terra e... (TV)  7.92   \n",
       "834                          Top wo Nerae! Gunbuster  7.89   \n",
       "365                        Seihou Bukyou Outlaw Star  7.87   \n",
       "6736  Uchuu Senkan Yamato 2199: Hoshimeguru Hakobune  7.77   \n",
       "881                    Uchuu Kaizoku Captain Herlock  7.71   \n",
       "74                                     Turn A Gundam   7.7   \n",
       "1433                             Uchuu Senkan Yamato  7.59   \n",
       "\n",
       "                                                 Genres  \\\n",
       "0       Action, Adventure, Comedy, Drama, Sci-Fi, Space   \n",
       "1                 Action, Drama, Mystery, Sci-Fi, Space   \n",
       "2177      Action, Military, Sci-Fi, Space, Drama, Mecha   \n",
       "1878             Action, Drama, Military, Sci-Fi, Space   \n",
       "834   Action, Comedy, Drama, Mecha, Military, Sci-Fi...   \n",
       "365            Action, Sci-Fi, Adventure, Space, Comedy   \n",
       "6736             Action, Military, Sci-Fi, Space, Drama   \n",
       "881     Action, Sci-Fi, Adventure, Space, Drama, Seinen   \n",
       "74    Action, Military, Sci-Fi, Adventure, Space, Dr...   \n",
       "1433  Action, Adventure, Drama, Military, Sci-Fi, Space   \n",
       "\n",
       "                                               Synopsis  Similarity_Scores  \n",
       "0     \"In the year 2071, humanity has colonized seve...           1.000000  \n",
       "1     other day, another bounty—such is the life of ...           0.353827  \n",
       "2177  \"In the distant future, mankind's dependence o...           0.340196  \n",
       "1878  In the future, humans are living on colonized ...           0.329169  \n",
       "834   \"In the near future, humanity has taken its fi...           0.314075  \n",
       "365   Gene Starwind has always dreamed of piloting h...           0.402303  \n",
       "6736  \"2199 AD. Yamato tried to leave behind the Lar...           0.314110  \n",
       "881   It is 2977 AD and mankind has become stagnant....           0.338928  \n",
       "74    \"It is the Correct Century, two millennia afte...           0.368688  \n",
       "1433  In the year 2199, Earth is a mere shell of its...           0.322631  "
      ]
     },
     "execution_count": 47,
     "metadata": {},
     "output_type": "execute_result"
    }
   ],
   "source": [
    "get_recommendations(\"Cowboy Bebop\", sort_by='Score')"
   ]
  },
  {
   "attachments": {},
   "cell_type": "markdown",
   "metadata": {},
   "source": [
    "In conclusion, this notebook presented a content-based anime recommender system that utilizes a dataset containing anime titles, ratings, genres, and synopses. By using pyspark for data cleaning and pre-processing, and techniques such as TFIDF and one hot encoding, the system is able to find similar animes based on genre and synopsis. A genre similarity matrix and a synopsis similarity matrix were created and combined to create a final similarity matrix. This final matrix is used in a function to retrieve similar animes above a certain threshold, which can be sorted by similarity score or rating. For future improvements, incorporating more features such as year and voice actors and experimenting with collaborative filtering methods can be considered to further enhance the performance of the system."
   ]
  },
  {
   "cell_type": "code",
   "execution_count": 49,
   "metadata": {},
   "outputs": [],
   "source": [
    "# Done\n",
    "\n",
    "# Improvements:\n",
    "# - Better features\n",
    "# - Collaborative-based filtering"
   ]
  }
 ],
 "metadata": {
  "kernelspec": {
   "display_name": "anime-rs",
   "language": "python",
   "name": "python3"
  },
  "language_info": {
   "codemirror_mode": {
    "name": "ipython",
    "version": 3
   },
   "file_extension": ".py",
   "mimetype": "text/x-python",
   "name": "python",
   "nbconvert_exporter": "python",
   "pygments_lexer": "ipython3",
   "version": "3.10.8 | packaged by conda-forge | (main, Nov 24 2022, 14:07:00) [MSC v.1916 64 bit (AMD64)]"
  },
  "orig_nbformat": 4,
  "vscode": {
   "interpreter": {
    "hash": "b41fd316cb4e20f5888ff2cbd7bab9667237593a1df83be01635a01420d4f30b"
   }
  }
 },
 "nbformat": 4,
 "nbformat_minor": 2
}
